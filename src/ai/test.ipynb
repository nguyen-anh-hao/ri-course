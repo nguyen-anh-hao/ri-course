{
 "cells": [
  {
   "cell_type": "code",
   "id": "initial_id",
   "metadata": {
    "collapsed": true,
    "ExecuteTime": {
     "end_time": "2024-11-20T11:10:11.005110Z",
     "start_time": "2024-11-20T11:10:11.001863Z"
    }
   },
   "source": [
    "from deepface import DeepFace\n",
    "import cv2\n",
    "import time\n",
    "import os\n",
    "from pathlib import Path\n"
   ],
   "outputs": [],
   "execution_count": 10
  },
  {
   "metadata": {
    "ExecuteTime": {
     "end_time": "2024-11-20T11:10:12.481474Z",
     "start_time": "2024-11-20T11:10:12.281813Z"
    }
   },
   "cell_type": "code",
   "source": "DeepFace.extract_faces(img_path=\"database/frames/frame-4.jpg\", anti_spoofing=True)",
   "id": "e4da6133f046188f",
   "outputs": [
    {
     "data": {
      "text/plain": [
       "[{'face': array([[[0.11764706, 0.12156863, 0.1372549 ],\n",
       "          [0.10980392, 0.12156863, 0.1372549 ],\n",
       "          [0.10196078, 0.11372549, 0.12941176],\n",
       "          ...,\n",
       "          [0.09411765, 0.10588235, 0.14117647],\n",
       "          [0.07058824, 0.07843137, 0.1254902 ],\n",
       "          [0.07843137, 0.08627451, 0.13333333]],\n",
       "  \n",
       "         [[0.1372549 , 0.14117647, 0.15686275],\n",
       "          [0.1254902 , 0.14117647, 0.15294118],\n",
       "          [0.11372549, 0.12941176, 0.14117647],\n",
       "          ...,\n",
       "          [0.1254902 , 0.14117647, 0.17647059],\n",
       "          [0.10196078, 0.11372549, 0.15686275],\n",
       "          [0.09411765, 0.10588235, 0.15294118]],\n",
       "  \n",
       "         [[0.13333333, 0.1372549 , 0.14509804],\n",
       "          [0.12156863, 0.14117647, 0.14509804],\n",
       "          [0.12156863, 0.1372549 , 0.14509804],\n",
       "          ...,\n",
       "          [0.14509804, 0.16078431, 0.2       ],\n",
       "          [0.12941176, 0.14509804, 0.18823529],\n",
       "          [0.11764706, 0.13333333, 0.17647059]],\n",
       "  \n",
       "         ...,\n",
       "  \n",
       "         [[0.03921569, 0.06666667, 0.15294118],\n",
       "          [0.04313725, 0.07058824, 0.14509804],\n",
       "          [0.04313725, 0.07058824, 0.14117647],\n",
       "          ...,\n",
       "          [0.30980392, 0.29803922, 0.2627451 ],\n",
       "          [0.30980392, 0.29803922, 0.2627451 ],\n",
       "          [0.30980392, 0.29803922, 0.2627451 ]],\n",
       "  \n",
       "         [[0.03921569, 0.0627451 , 0.14901961],\n",
       "          [0.04313725, 0.07058824, 0.14509804],\n",
       "          [0.04313725, 0.07058824, 0.14509804],\n",
       "          ...,\n",
       "          [0.30196078, 0.29019608, 0.25490196],\n",
       "          [0.30196078, 0.29019608, 0.25490196],\n",
       "          [0.30588235, 0.29411765, 0.25882353]],\n",
       "  \n",
       "         [[0.04313725, 0.06666667, 0.15294118],\n",
       "          [0.04313725, 0.06666667, 0.14117647],\n",
       "          [0.03921569, 0.05882353, 0.1372549 ],\n",
       "          ...,\n",
       "          [0.29411765, 0.28235294, 0.24705882],\n",
       "          [0.29803922, 0.28627451, 0.25098039],\n",
       "          [0.29803922, 0.28627451, 0.25098039]]]),\n",
       "  'facial_area': {'x': 287,\n",
       "   'y': 271,\n",
       "   'w': 145,\n",
       "   'h': 145,\n",
       "   'left_eye': (386, 319),\n",
       "   'right_eye': (333, 327)},\n",
       "  'confidence': 0.94,\n",
       "  'is_real': True,\n",
       "  'antispoof_score': 0.9626860916614532}]"
      ]
     },
     "execution_count": 11,
     "metadata": {},
     "output_type": "execute_result"
    }
   ],
   "execution_count": 11
  },
  {
   "metadata": {
    "ExecuteTime": {
     "end_time": "2024-11-20T11:05:22.397168Z",
     "start_time": "2024-11-20T11:02:58.254338Z"
    }
   },
   "cell_type": "code",
   "source": "",
   "id": "e2f4fa47eb7588a8",
   "outputs": [
    {
     "ename": "KeyboardInterrupt",
     "evalue": "",
     "output_type": "error",
     "traceback": [
      "\u001B[0;31m---------------------------------------------------------------------------\u001B[0m",
      "\u001B[0;31mKeyboardInterrupt\u001B[0m                         Traceback (most recent call last)",
      "Cell \u001B[0;32mIn[9], line 53\u001B[0m\n\u001B[1;32m     51\u001B[0m \u001B[38;5;66;03m# Lặp lại quá trình chụp và phân tích mỗi 5 phút\u001B[39;00m\n\u001B[1;32m     52\u001B[0m \u001B[38;5;28;01mwhile\u001B[39;00m \u001B[38;5;28;01mTrue\u001B[39;00m:\n\u001B[0;32m---> 53\u001B[0m     \u001B[43mcapture_and_analyze\u001B[49m\u001B[43m(\u001B[49m\u001B[43m)\u001B[49m\n\u001B[1;32m     54\u001B[0m     \u001B[38;5;28mprint\u001B[39m(\u001B[38;5;124mf\u001B[39m\u001B[38;5;124m\"\u001B[39m\u001B[38;5;124mĐã ghi lại 5 frame. Chờ 5 phút để tiếp tục...\u001B[39m\u001B[38;5;124m\"\u001B[39m)\n",
      "Cell \u001B[0;32mIn[9], line 19\u001B[0m, in \u001B[0;36mcapture_and_analyze\u001B[0;34m(duration, num_frames, output_dir)\u001B[0m\n\u001B[1;32m     16\u001B[0m     frames\u001B[38;5;241m.\u001B[39mappend(frame)\n\u001B[1;32m     18\u001B[0m     \u001B[38;5;66;03m# Chỉ xử lý sau mỗi khoảng thời gian đều nhau\u001B[39;00m\n\u001B[0;32m---> 19\u001B[0m     \u001B[43mtime\u001B[49m\u001B[38;5;241;43m.\u001B[39;49m\u001B[43msleep\u001B[49m\u001B[43m(\u001B[49m\u001B[43mduration\u001B[49m\u001B[43m \u001B[49m\u001B[38;5;241;43m/\u001B[39;49m\u001B[43m \u001B[49m\u001B[43mnum_frames\u001B[49m\u001B[43m)\u001B[49m\n\u001B[1;32m     21\u001B[0m cap\u001B[38;5;241m.\u001B[39mrelease()\n\u001B[1;32m     23\u001B[0m \u001B[38;5;28;01mfor\u001B[39;00m i, frame \u001B[38;5;129;01min\u001B[39;00m \u001B[38;5;28menumerate\u001B[39m(frames):\n\u001B[1;32m     24\u001B[0m     \u001B[38;5;66;03m# Lưu frame\u001B[39;00m\n",
      "\u001B[0;31mKeyboardInterrupt\u001B[0m: "
     ]
    }
   ],
   "execution_count": 9
  }
 ],
 "metadata": {
  "kernelspec": {
   "display_name": "Python 3",
   "language": "python",
   "name": "python3"
  },
  "language_info": {
   "codemirror_mode": {
    "name": "ipython",
    "version": 2
   },
   "file_extension": ".py",
   "mimetype": "text/x-python",
   "name": "python",
   "nbconvert_exporter": "python",
   "pygments_lexer": "ipython2",
   "version": "2.7.6"
  }
 },
 "nbformat": 4,
 "nbformat_minor": 5
}
